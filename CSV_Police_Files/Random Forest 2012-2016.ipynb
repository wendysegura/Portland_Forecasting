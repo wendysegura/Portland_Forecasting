{
 "cells": [
  {
   "cell_type": "code",
   "execution_count": 65,
   "metadata": {
    "collapsed": true
   },
   "outputs": [],
   "source": [
    "import os\n",
    "\n",
    "import numpy as np\n",
    "import pandas as pd\n",
    "pd.set_option('display.max_rows', 10)\n",
    "pd.set_option('display.notebook_repr_html', True)\n",
    "pd.set_option('display.max_columns', 10)\n",
    "\n",
    "import statsmodels.api as sm\n",
    "import statsmodels.formula.api as smf\n",
    "import datetime \n",
    "\n",
    "from sklearn import feature_selection, linear_model, metrics, preprocessing\n",
    "from sklearn.feature_extraction import DictVectorizer\n",
    "from sklearn.ensemble import RandomForestClassifier\n",
    "from sklearn import cross_validation\n",
    "\n",
    "import matplotlib.pyplot as plt\n",
    "%matplotlib inline\n",
    "plt.style.use('ggplot')\n",
    "\n",
    "import seaborn as sns\n",
    "import seaborn as sb\n"
   ]
  },
  {
   "cell_type": "code",
   "execution_count": 66,
   "metadata": {
    "collapsed": false
   },
   "outputs": [],
   "source": [
    "df_12 = pd.read_csv('NIJ2012.csv')\n",
    "df_13 = pd.read_csv('NIJ2013.csv')\n",
    "df_14 = pd.read_csv('NIJ2014.csv')\n",
    "df_15 = pd.read_csv('NIJ2015.csv')\n",
    "df_16_01_07 = pd.read_csv('NIJ2016_01_07.csv')\n",
    "df_16_08 = pd.read_csv('NIJ2016_08.csv')\n",
    "df_16_09 = pd.read_csv('NIJ2016_09.csv')\n",
    "df_16_10 = pd.read_csv('NIJ2016_10.csv')"
   ]
  },
  {
   "cell_type": "code",
   "execution_count": 67,
   "metadata": {
    "collapsed": false
   },
   "outputs": [],
   "source": [
    "df = pd.concat([df_12, df_13, df_14, df_15, df_16_01_07, df_16_08, df_16_09, df_16_10],ignore_index = True)"
   ]
  },
  {
   "cell_type": "code",
   "execution_count": 68,
   "metadata": {
    "collapsed": false
   },
   "outputs": [
    {
     "name": "stdout",
     "output_type": "stream",
     "text": [
      "<class 'pandas.core.frame.DataFrame'>\n",
      "RangeIndex: 893954 entries, 0 to 893953\n",
      "Data columns (total 8 columns):\n",
      "CATEGORY           893954 non-null object\n",
      "CALL GROUPS        893954 non-null object\n",
      "final_case_type    893954 non-null object\n",
      "CASE DESC          893954 non-null object\n",
      "occ_date           893954 non-null object\n",
      "x_coordinate       893954 non-null int64\n",
      "y_coordinate       893954 non-null int64\n",
      "census_tract       841870 non-null float64\n",
      "dtypes: float64(1), int64(2), object(5)\n",
      "memory usage: 54.6+ MB\n"
     ]
    }
   ],
   "source": [
    "df.info()"
   ]
  },
  {
   "cell_type": "code",
   "execution_count": 69,
   "metadata": {
    "collapsed": true
   },
   "outputs": [],
   "source": [
    "df = df.drop('census_tract', 1)"
   ]
  },
  {
   "cell_type": "code",
   "execution_count": 70,
   "metadata": {
    "collapsed": true
   },
   "outputs": [],
   "source": [
    "df.rename(columns = {'CASE DESC': 'CASE_DESC', 'final_case_type': 'FINAL_CASE_TYPE','occ_date': 'OCC_DATE','y_coordinate': 'Y_COORDINATE','x_coordinate': 'X_COORDINATE','CALL GROUPS': 'CALL_GROUPS'}, inplace = True)"
   ]
  },
  {
   "cell_type": "code",
   "execution_count": 73,
   "metadata": {
    "collapsed": false
   },
   "outputs": [
    {
     "data": {
      "text/plain": [
       "array([' SUSPICIOUS', 'DISORDER', 'NON CRIMINAL/ADMIN', 'PERSON CRIME',\n",
       "       'PROPERTY CRIME', 'TRAFFIC'], dtype=object)"
      ]
     },
     "execution_count": 73,
     "metadata": {},
     "output_type": "execute_result"
    }
   ],
   "source": [
    "np.sort(df.CALL_GROUPS.unique())"
   ]
  },
  {
   "cell_type": "code",
   "execution_count": 74,
   "metadata": {
    "collapsed": false
   },
   "outputs": [],
   "source": [
    "df.OCC_DATE = pd.to_datetime(df.OCC_DATE)"
   ]
  },
  {
   "cell_type": "code",
   "execution_count": 75,
   "metadata": {
    "collapsed": false
   },
   "outputs": [
    {
     "data": {
      "text/html": [
       "<div>\n",
       "<table border=\"1\" class=\"dataframe\">\n",
       "  <thead>\n",
       "    <tr style=\"text-align: right;\">\n",
       "      <th></th>\n",
       "      <th>CATEGORY</th>\n",
       "      <th>CALL_GROUPS</th>\n",
       "      <th>FINAL_CASE_TYPE</th>\n",
       "      <th>CASE_DESC</th>\n",
       "      <th>X_COORDINATE</th>\n",
       "      <th>Y_COORDINATE</th>\n",
       "      <th>YEAR</th>\n",
       "      <th>MONTH</th>\n",
       "    </tr>\n",
       "  </thead>\n",
       "  <tbody>\n",
       "    <tr>\n",
       "      <th>0</th>\n",
       "      <td>STREET CRIMES</td>\n",
       "      <td>DISORDER</td>\n",
       "      <td>DISTP</td>\n",
       "      <td>DISTURBANCE - PRIORITY                        ...</td>\n",
       "      <td>7641076</td>\n",
       "      <td>684831</td>\n",
       "      <td>2012</td>\n",
       "      <td>3</td>\n",
       "    </tr>\n",
       "    <tr>\n",
       "      <th>1</th>\n",
       "      <td>STREET CRIMES</td>\n",
       "      <td>DISORDER</td>\n",
       "      <td>DISTP</td>\n",
       "      <td>DISTURBANCE - PRIORITY                        ...</td>\n",
       "      <td>7642640</td>\n",
       "      <td>683167</td>\n",
       "      <td>2012</td>\n",
       "      <td>3</td>\n",
       "    </tr>\n",
       "    <tr>\n",
       "      <th>2</th>\n",
       "      <td>STREET CRIMES</td>\n",
       "      <td>DISORDER</td>\n",
       "      <td>DISTP</td>\n",
       "      <td>DISTURBANCE - PRIORITY                        ...</td>\n",
       "      <td>7643599</td>\n",
       "      <td>683216</td>\n",
       "      <td>2012</td>\n",
       "      <td>3</td>\n",
       "    </tr>\n",
       "    <tr>\n",
       "      <th>3</th>\n",
       "      <td>STREET CRIMES</td>\n",
       "      <td>DISORDER</td>\n",
       "      <td>DISTP</td>\n",
       "      <td>DISTURBANCE - PRIORITY                        ...</td>\n",
       "      <td>7644359</td>\n",
       "      <td>693642</td>\n",
       "      <td>2012</td>\n",
       "      <td>3</td>\n",
       "    </tr>\n",
       "    <tr>\n",
       "      <th>4</th>\n",
       "      <td>STREET CRIMES</td>\n",
       "      <td>DISORDER</td>\n",
       "      <td>DISTP</td>\n",
       "      <td>DISTURBANCE - PRIORITY                        ...</td>\n",
       "      <td>7644771</td>\n",
       "      <td>683859</td>\n",
       "      <td>2012</td>\n",
       "      <td>3</td>\n",
       "    </tr>\n",
       "  </tbody>\n",
       "</table>\n",
       "</div>"
      ],
      "text/plain": [
       "        CATEGORY CALL_GROUPS FINAL_CASE_TYPE  \\\n",
       "0  STREET CRIMES    DISORDER          DISTP    \n",
       "1  STREET CRIMES    DISORDER          DISTP    \n",
       "2  STREET CRIMES    DISORDER          DISTP    \n",
       "3  STREET CRIMES    DISORDER          DISTP    \n",
       "4  STREET CRIMES    DISORDER          DISTP    \n",
       "\n",
       "                                           CASE_DESC  X_COORDINATE  \\\n",
       "0  DISTURBANCE - PRIORITY                        ...       7641076   \n",
       "1  DISTURBANCE - PRIORITY                        ...       7642640   \n",
       "2  DISTURBANCE - PRIORITY                        ...       7643599   \n",
       "3  DISTURBANCE - PRIORITY                        ...       7644359   \n",
       "4  DISTURBANCE - PRIORITY                        ...       7644771   \n",
       "\n",
       "   Y_COORDINATE  YEAR  MONTH  \n",
       "0        684831  2012      3  \n",
       "1        683167  2012      3  \n",
       "2        683216  2012      3  \n",
       "3        693642  2012      3  \n",
       "4        683859  2012      3  "
      ]
     },
     "execution_count": 75,
     "metadata": {},
     "output_type": "execute_result"
    }
   ],
   "source": [
    "df.set_index('OCC_DATE', inplace = True)\n",
    "df['YEAR'] = df.index.year\n",
    "df['MONTH'] = df.index.month\n",
    "df.reset_index(drop=True, inplace=True)\n",
    "df.head()"
   ]
  },
  {
   "cell_type": "code",
   "execution_count": 76,
   "metadata": {
    "collapsed": false
   },
   "outputs": [
    {
     "data": {
      "text/html": [
       "<div>\n",
       "<table border=\"1\" class=\"dataframe\">\n",
       "  <thead>\n",
       "    <tr style=\"text-align: right;\">\n",
       "      <th></th>\n",
       "      <th>CATEGORY</th>\n",
       "      <th>CALL_GROUPS</th>\n",
       "      <th>X_COORDINATE</th>\n",
       "      <th>Y_COORDINATE</th>\n",
       "      <th>YEAR</th>\n",
       "      <th>MONTH</th>\n",
       "    </tr>\n",
       "  </thead>\n",
       "  <tbody>\n",
       "    <tr>\n",
       "      <th>0</th>\n",
       "      <td>STREET CRIMES</td>\n",
       "      <td>DISORDER</td>\n",
       "      <td>7641076</td>\n",
       "      <td>684831</td>\n",
       "      <td>2012</td>\n",
       "      <td>3</td>\n",
       "    </tr>\n",
       "    <tr>\n",
       "      <th>1</th>\n",
       "      <td>STREET CRIMES</td>\n",
       "      <td>DISORDER</td>\n",
       "      <td>7642640</td>\n",
       "      <td>683167</td>\n",
       "      <td>2012</td>\n",
       "      <td>3</td>\n",
       "    </tr>\n",
       "    <tr>\n",
       "      <th>2</th>\n",
       "      <td>STREET CRIMES</td>\n",
       "      <td>DISORDER</td>\n",
       "      <td>7643599</td>\n",
       "      <td>683216</td>\n",
       "      <td>2012</td>\n",
       "      <td>3</td>\n",
       "    </tr>\n",
       "    <tr>\n",
       "      <th>3</th>\n",
       "      <td>STREET CRIMES</td>\n",
       "      <td>DISORDER</td>\n",
       "      <td>7644359</td>\n",
       "      <td>693642</td>\n",
       "      <td>2012</td>\n",
       "      <td>3</td>\n",
       "    </tr>\n",
       "    <tr>\n",
       "      <th>4</th>\n",
       "      <td>STREET CRIMES</td>\n",
       "      <td>DISORDER</td>\n",
       "      <td>7644771</td>\n",
       "      <td>683859</td>\n",
       "      <td>2012</td>\n",
       "      <td>3</td>\n",
       "    </tr>\n",
       "  </tbody>\n",
       "</table>\n",
       "</div>"
      ],
      "text/plain": [
       "        CATEGORY CALL_GROUPS  X_COORDINATE  Y_COORDINATE  YEAR  MONTH\n",
       "0  STREET CRIMES    DISORDER       7641076        684831  2012      3\n",
       "1  STREET CRIMES    DISORDER       7642640        683167  2012      3\n",
       "2  STREET CRIMES    DISORDER       7643599        683216  2012      3\n",
       "3  STREET CRIMES    DISORDER       7644359        693642  2012      3\n",
       "4  STREET CRIMES    DISORDER       7644771        683859  2012      3"
      ]
     },
     "execution_count": 76,
     "metadata": {},
     "output_type": "execute_result"
    }
   ],
   "source": [
    "df.drop(['FINAL_CASE_TYPE', 'CASE_DESC'],\n",
    "    axis = 1,\n",
    "    inplace = True)\n",
    "df.head()"
   ]
  },
  {
   "cell_type": "code",
   "execution_count": 77,
   "metadata": {
    "collapsed": true
   },
   "outputs": [],
   "source": [
    "# save progress to csv\n",
    "df.to_csv('2012-16.csv', sep=',', index=False)"
   ]
  },
  {
   "cell_type": "code",
   "execution_count": 78,
   "metadata": {
    "collapsed": false
   },
   "outputs": [],
   "source": [
    "# load saved csv\n",
    "df = pd.read_csv('2012-16.csv')"
   ]
  },
  {
   "cell_type": "code",
   "execution_count": 79,
   "metadata": {
    "collapsed": false
   },
   "outputs": [
    {
     "data": {
      "text/plain": [
       "Index([u'CATEGORY', u'CALL_GROUPS', u'X_COORDINATE', u'Y_COORDINATE', u'YEAR',\n",
       "       u'MONTH'],\n",
       "      dtype='object')"
      ]
     },
     "execution_count": 79,
     "metadata": {},
     "output_type": "execute_result"
    }
   ],
   "source": [
    "df.columns"
   ]
  },
  {
   "cell_type": "code",
   "execution_count": 80,
   "metadata": {
    "collapsed": false
   },
   "outputs": [
    {
     "data": {
      "text/plain": [
       "{'BURGLARY': 3, 'MOTOR VEHICLE THEFT': 2, 'OTHER': 1, 'STREET CRIMES': 0}"
      ]
     },
     "execution_count": 80,
     "metadata": {},
     "output_type": "execute_result"
    }
   ],
   "source": [
    "# encoded labels\n",
    "labeldict = dict(zip(df['CATEGORY'].unique(), \n",
    "                     range(len(df['CATEGORY'].unique()))))\n",
    "labeldict"
   ]
  },
  {
   "cell_type": "code",
   "execution_count": 81,
   "metadata": {
    "collapsed": false
   },
   "outputs": [],
   "source": [
    "labeldict = dict(zip(df['CALL_GROUPS'].unique(), \n",
    "                    range(len(df['CALL_GROUPS'].unique()))))\n",
    "labeldict\n",
    "df['CALL_GROUPS_LBL'] = df['CALL_GROUPS'].map(labeldict)"
   ]
  },
  {
   "cell_type": "code",
   "execution_count": 82,
   "metadata": {
    "collapsed": false
   },
   "outputs": [],
   "source": [
    "YEAR_df = pd.get_dummies(df.YEAR, prefix = 'YEAR')\n",
    "MONTH_df = pd.get_dummies(df.MONTH, prefix = 'MONTH')\n",
    "CALL_GROUPS_df = pd.get_dummies(df.CALL_GROUPS, prefix = 'CALL_GROUPS')"
   ]
  },
  {
   "cell_type": "code",
   "execution_count": 83,
   "metadata": {
    "collapsed": false
   },
   "outputs": [
    {
     "data": {
      "text/html": [
       "<div>\n",
       "<table border=\"1\" class=\"dataframe\">\n",
       "  <thead>\n",
       "    <tr style=\"text-align: right;\">\n",
       "      <th></th>\n",
       "      <th>CATEGORY</th>\n",
       "      <th>CALL_GROUPS</th>\n",
       "      <th>X_COORDINATE</th>\n",
       "      <th>Y_COORDINATE</th>\n",
       "      <th>YEAR</th>\n",
       "      <th>...</th>\n",
       "      <th>CALL_GROUPS_DISORDER</th>\n",
       "      <th>CALL_GROUPS_NON CRIMINAL/ADMIN</th>\n",
       "      <th>CALL_GROUPS_PERSON CRIME</th>\n",
       "      <th>CALL_GROUPS_PROPERTY CRIME</th>\n",
       "      <th>CALL_GROUPS_TRAFFIC</th>\n",
       "    </tr>\n",
       "  </thead>\n",
       "  <tbody>\n",
       "    <tr>\n",
       "      <th>0</th>\n",
       "      <td>STREET CRIMES</td>\n",
       "      <td>DISORDER</td>\n",
       "      <td>7641076</td>\n",
       "      <td>684831</td>\n",
       "      <td>2012</td>\n",
       "      <td>...</td>\n",
       "      <td>1.0</td>\n",
       "      <td>0.0</td>\n",
       "      <td>0.0</td>\n",
       "      <td>0.0</td>\n",
       "      <td>0.0</td>\n",
       "    </tr>\n",
       "    <tr>\n",
       "      <th>1</th>\n",
       "      <td>STREET CRIMES</td>\n",
       "      <td>DISORDER</td>\n",
       "      <td>7642640</td>\n",
       "      <td>683167</td>\n",
       "      <td>2012</td>\n",
       "      <td>...</td>\n",
       "      <td>1.0</td>\n",
       "      <td>0.0</td>\n",
       "      <td>0.0</td>\n",
       "      <td>0.0</td>\n",
       "      <td>0.0</td>\n",
       "    </tr>\n",
       "    <tr>\n",
       "      <th>2</th>\n",
       "      <td>STREET CRIMES</td>\n",
       "      <td>DISORDER</td>\n",
       "      <td>7643599</td>\n",
       "      <td>683216</td>\n",
       "      <td>2012</td>\n",
       "      <td>...</td>\n",
       "      <td>1.0</td>\n",
       "      <td>0.0</td>\n",
       "      <td>0.0</td>\n",
       "      <td>0.0</td>\n",
       "      <td>0.0</td>\n",
       "    </tr>\n",
       "    <tr>\n",
       "      <th>3</th>\n",
       "      <td>STREET CRIMES</td>\n",
       "      <td>DISORDER</td>\n",
       "      <td>7644359</td>\n",
       "      <td>693642</td>\n",
       "      <td>2012</td>\n",
       "      <td>...</td>\n",
       "      <td>1.0</td>\n",
       "      <td>0.0</td>\n",
       "      <td>0.0</td>\n",
       "      <td>0.0</td>\n",
       "      <td>0.0</td>\n",
       "    </tr>\n",
       "    <tr>\n",
       "      <th>4</th>\n",
       "      <td>STREET CRIMES</td>\n",
       "      <td>DISORDER</td>\n",
       "      <td>7644771</td>\n",
       "      <td>683859</td>\n",
       "      <td>2012</td>\n",
       "      <td>...</td>\n",
       "      <td>1.0</td>\n",
       "      <td>0.0</td>\n",
       "      <td>0.0</td>\n",
       "      <td>0.0</td>\n",
       "      <td>0.0</td>\n",
       "    </tr>\n",
       "  </tbody>\n",
       "</table>\n",
       "<p>5 rows × 30 columns</p>\n",
       "</div>"
      ],
      "text/plain": [
       "        CATEGORY CALL_GROUPS  X_COORDINATE  Y_COORDINATE  YEAR  \\\n",
       "0  STREET CRIMES    DISORDER       7641076        684831  2012   \n",
       "1  STREET CRIMES    DISORDER       7642640        683167  2012   \n",
       "2  STREET CRIMES    DISORDER       7643599        683216  2012   \n",
       "3  STREET CRIMES    DISORDER       7644359        693642  2012   \n",
       "4  STREET CRIMES    DISORDER       7644771        683859  2012   \n",
       "\n",
       "          ...           CALL_GROUPS_DISORDER  CALL_GROUPS_NON CRIMINAL/ADMIN  \\\n",
       "0         ...                            1.0                             0.0   \n",
       "1         ...                            1.0                             0.0   \n",
       "2         ...                            1.0                             0.0   \n",
       "3         ...                            1.0                             0.0   \n",
       "4         ...                            1.0                             0.0   \n",
       "\n",
       "   CALL_GROUPS_PERSON CRIME  CALL_GROUPS_PROPERTY CRIME  CALL_GROUPS_TRAFFIC  \n",
       "0                       0.0                         0.0                  0.0  \n",
       "1                       0.0                         0.0                  0.0  \n",
       "2                       0.0                         0.0                  0.0  \n",
       "3                       0.0                         0.0                  0.0  \n",
       "4                       0.0                         0.0                  0.0  \n",
       "\n",
       "[5 rows x 30 columns]"
      ]
     },
     "execution_count": 83,
     "metadata": {},
     "output_type": "execute_result"
    }
   ],
   "source": [
    "df = df.join([YEAR_df, MONTH_df, CALL_GROUPS_df])\n",
    "df.head()"
   ]
  },
  {
   "cell_type": "code",
   "execution_count": 84,
   "metadata": {
    "collapsed": false
   },
   "outputs": [
    {
     "data": {
      "text/plain": [
       "Index([u'CATEGORY', u'X_COORDINATE', u'Y_COORDINATE', u'CALL_GROUPS_LBL',\n",
       "       u'YEAR_2012', u'YEAR_2013', u'YEAR_2014', u'YEAR_2015', u'YEAR_2016',\n",
       "       u'MONTH_1', u'MONTH_2', u'MONTH_3', u'MONTH_4', u'MONTH_5', u'MONTH_6',\n",
       "       u'MONTH_7', u'MONTH_8', u'MONTH_9', u'MONTH_10', u'MONTH_11',\n",
       "       u'MONTH_12', u'CALL_GROUPS_ SUSPICIOUS', u'CALL_GROUPS_DISORDER',\n",
       "       u'CALL_GROUPS_NON CRIMINAL/ADMIN', u'CALL_GROUPS_PERSON CRIME',\n",
       "       u'CALL_GROUPS_PROPERTY CRIME', u'CALL_GROUPS_TRAFFIC'],\n",
       "      dtype='object')"
      ]
     },
     "execution_count": 84,
     "metadata": {},
     "output_type": "execute_result"
    }
   ],
   "source": [
    "df.drop(['YEAR', 'MONTH','CALL_GROUPS'], axis=1, inplace=True)\n",
    "df.columns"
   ]
  },
  {
   "cell_type": "code",
   "execution_count": 63,
   "metadata": {
    "collapsed": false
   },
   "outputs": [],
   "source": [
    "#df.info()"
   ]
  },
  {
   "cell_type": "code",
   "execution_count": 85,
   "metadata": {
    "collapsed": false
   },
   "outputs": [
    {
     "data": {
      "text/plain": [
       "OTHER    732618\n",
       "Name: CATEGORY, dtype: int64"
      ]
     },
     "execution_count": 85,
     "metadata": {},
     "output_type": "execute_result"
    }
   ],
   "source": [
    "df['CATEGORY'].loc[df['CATEGORY']=='OTHER'].value_counts()"
   ]
  },
  {
   "cell_type": "code",
   "execution_count": 86,
   "metadata": {
    "collapsed": false
   },
   "outputs": [],
   "source": [
    "train_X = df[df['YEAR_2016']==0].drop('CATEGORY', axis=1, inplace=False)\n",
    "train_Y = df[df['YEAR_2016']==0]['CATEGORY']\n",
    "test_X = df[df['YEAR_2016']==1].drop('CATEGORY', axis=1, inplace=False)\n",
    "test_Y = df[df['YEAR_2016']==1]['CATEGORY']"
   ]
  },
  {
   "cell_type": "markdown",
   "metadata": {},
   "source": [
    "RANDOM FOREST"
   ]
  },
  {
   "cell_type": "code",
   "execution_count": 87,
   "metadata": {
    "collapsed": true
   },
   "outputs": [],
   "source": [
    "model = RandomForestClassifier(n_estimators=1000)"
   ]
  },
  {
   "cell_type": "markdown",
   "metadata": {},
   "source": [
    "FITTING DATA"
   ]
  },
  {
   "cell_type": "code",
   "execution_count": 88,
   "metadata": {
    "collapsed": false
   },
   "outputs": [
    {
     "data": {
      "text/plain": [
       "RandomForestClassifier(bootstrap=True, class_weight=None, criterion='gini',\n",
       "            max_depth=None, max_features='auto', max_leaf_nodes=None,\n",
       "            min_samples_leaf=1, min_samples_split=2,\n",
       "            min_weight_fraction_leaf=0.0, n_estimators=1000, n_jobs=1,\n",
       "            oob_score=False, random_state=None, verbose=0,\n",
       "            warm_start=False)"
      ]
     },
     "execution_count": 88,
     "metadata": {},
     "output_type": "execute_result"
    }
   ],
   "source": [
    "model.fit(train_X, train_Y)"
   ]
  },
  {
   "cell_type": "markdown",
   "metadata": {},
   "source": [
    "TRAINING DATA"
   ]
  },
  {
   "cell_type": "code",
   "execution_count": 89,
   "metadata": {
    "collapsed": false
   },
   "outputs": [
    {
     "data": {
      "text/plain": [
       "0.9714156383186161"
      ]
     },
     "execution_count": 89,
     "metadata": {},
     "output_type": "execute_result"
    }
   ],
   "source": [
    "metrics.accuracy_score(train_Y, model.predict(train_X))"
   ]
  },
  {
   "cell_type": "code",
   "execution_count": 90,
   "metadata": {
    "collapsed": false
   },
   "outputs": [
    {
     "data": {
      "text/plain": [
       "0.84819348312818943"
      ]
     },
     "execution_count": 90,
     "metadata": {},
     "output_type": "execute_result"
    }
   ],
   "source": [
    "metrics.accuracy_score(test_Y, model.predict(test_X))"
   ]
  },
  {
   "cell_type": "code",
   "execution_count": 36,
   "metadata": {
    "collapsed": false
   },
   "outputs": [
    {
     "name": "stdout",
     "output_type": "stream",
     "text": [
      "X_COORDINATE                      7624068.0\n",
      "Y_COORDINATE                       710192.0\n",
      "CALL_GROUPS_LBL                         0.0\n",
      "YEAR_2012                               0.0\n",
      "YEAR_2013                               0.0\n",
      "                                    ...    \n",
      "CALL_GROUPS_DISORDER                    1.0\n",
      "CALL_GROUPS_NON CRIMINAL/ADMIN          0.0\n",
      "CALL_GROUPS_PERSON CRIME                0.0\n",
      "CALL_GROUPS_PROPERTY CRIME              0.0\n",
      "CALL_GROUPS_TRAFFIC                     0.0\n",
      "Name: 717980, dtype: float64\n",
      "['STREET CRIMES']\n"
     ]
    }
   ],
   "source": [
    "print test_X.iloc[0]\n",
    "print model.predict(test_X.iloc[0].values.reshape(1,-1))"
   ]
  },
  {
   "cell_type": "code",
   "execution_count": null,
   "metadata": {
    "collapsed": false
   },
   "outputs": [],
   "source": []
  },
  {
   "cell_type": "code",
   "execution_count": null,
   "metadata": {
    "collapsed": true
   },
   "outputs": [],
   "source": []
  }
 ],
 "metadata": {
  "anaconda-cloud": {},
  "kernelspec": {
   "display_name": "Python [Root]",
   "language": "python",
   "name": "Python [Root]"
  },
  "language_info": {
   "codemirror_mode": {
    "name": "ipython",
    "version": 2
   },
   "file_extension": ".py",
   "mimetype": "text/x-python",
   "name": "python",
   "nbconvert_exporter": "python",
   "pygments_lexer": "ipython2",
   "version": "2.7.12"
  }
 },
 "nbformat": 4,
 "nbformat_minor": 0
}
